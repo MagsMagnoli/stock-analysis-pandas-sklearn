{
  "nbformat": 4,
  "nbformat_minor": 0,
  "metadata": {
    "colab": {
      "name": "stock-prediction.ipynb",
      "version": "0.3.2",
      "provenance": []
    },
    "kernelspec": {
      "name": "python3",
      "display_name": "Python 3"
    }
  },
  "cells": [
    {
      "cell_type": "code",
      "metadata": {
        "id": "GQdnMcv-AiUU",
        "colab_type": "code",
        "colab": {}
      },
      "source": [
        "# import modules we need\n",
        "import numpy as np\n",
        "import pandas as pd\n",
        "import matplotlib.pyplot as plt\n",
        "%matplotlib inline\n",
        "\n",
        "from pandas_datareader import data as pdr\n",
        "import fix_yahoo_finance as yf\n",
        "import datetime\n",
        "\n",
        "from sklearn import model_selection, preprocessing\n",
        "from sklearn.linear_model import LinearRegression, Lasso, Ridge\n",
        "from sklearn.pipeline import make_pipeline\n",
        "from sklearn.preprocessing import PolynomialFeatures\n",
        "\n",
        "import math"
      ],
      "execution_count": 0,
      "outputs": []
    },
    {
      "cell_type": "code",
      "metadata": {
        "id": "LwSpNdVhAu-c",
        "colab_type": "code",
        "outputId": "6ac185fb-3795-444c-9503-76ac44dcd27a",
        "colab": {
          "base_uri": "https://localhost:8080/",
          "height": 235
        }
      },
      "source": [
        "# read data\n",
        "start = datetime.datetime(2010, 1, 1)\n",
        "end = datetime.datetime.now()\n",
        "\n",
        "df = pdr.DataReader(\"AAPL\", 'yahoo', start, end)\n",
        "df.tail()"
      ],
      "execution_count": 63,
      "outputs": [
        {
          "output_type": "execute_result",
          "data": {
            "text/html": [
              "<div>\n",
              "<style scoped>\n",
              "    .dataframe tbody tr th:only-of-type {\n",
              "        vertical-align: middle;\n",
              "    }\n",
              "\n",
              "    .dataframe tbody tr th {\n",
              "        vertical-align: top;\n",
              "    }\n",
              "\n",
              "    .dataframe thead th {\n",
              "        text-align: right;\n",
              "    }\n",
              "</style>\n",
              "<table border=\"1\" class=\"dataframe\">\n",
              "  <thead>\n",
              "    <tr style=\"text-align: right;\">\n",
              "      <th></th>\n",
              "      <th>High</th>\n",
              "      <th>Low</th>\n",
              "      <th>Open</th>\n",
              "      <th>Close</th>\n",
              "      <th>Volume</th>\n",
              "      <th>Adj Close</th>\n",
              "    </tr>\n",
              "    <tr>\n",
              "      <th>Date</th>\n",
              "      <th></th>\n",
              "      <th></th>\n",
              "      <th></th>\n",
              "      <th></th>\n",
              "      <th></th>\n",
              "      <th></th>\n",
              "    </tr>\n",
              "  </thead>\n",
              "  <tbody>\n",
              "    <tr>\n",
              "      <th>2019-09-05</th>\n",
              "      <td>213.970001</td>\n",
              "      <td>211.509995</td>\n",
              "      <td>212.000000</td>\n",
              "      <td>213.279999</td>\n",
              "      <td>23913700.0</td>\n",
              "      <td>213.279999</td>\n",
              "    </tr>\n",
              "    <tr>\n",
              "      <th>2019-09-06</th>\n",
              "      <td>214.419998</td>\n",
              "      <td>212.509995</td>\n",
              "      <td>214.050003</td>\n",
              "      <td>213.259995</td>\n",
              "      <td>19362300.0</td>\n",
              "      <td>213.259995</td>\n",
              "    </tr>\n",
              "    <tr>\n",
              "      <th>2019-09-09</th>\n",
              "      <td>216.440002</td>\n",
              "      <td>211.070007</td>\n",
              "      <td>214.839996</td>\n",
              "      <td>214.169998</td>\n",
              "      <td>27309400.0</td>\n",
              "      <td>214.169998</td>\n",
              "    </tr>\n",
              "    <tr>\n",
              "      <th>2019-09-10</th>\n",
              "      <td>216.779999</td>\n",
              "      <td>211.710007</td>\n",
              "      <td>213.860001</td>\n",
              "      <td>216.699997</td>\n",
              "      <td>31777900.0</td>\n",
              "      <td>216.699997</td>\n",
              "    </tr>\n",
              "    <tr>\n",
              "      <th>2019-09-11</th>\n",
              "      <td>223.710007</td>\n",
              "      <td>217.729996</td>\n",
              "      <td>218.070007</td>\n",
              "      <td>223.589996</td>\n",
              "      <td>43590900.0</td>\n",
              "      <td>223.589996</td>\n",
              "    </tr>\n",
              "  </tbody>\n",
              "</table>\n",
              "</div>"
            ],
            "text/plain": [
              "                  High         Low  ...      Volume   Adj Close\n",
              "Date                                ...                        \n",
              "2019-09-05  213.970001  211.509995  ...  23913700.0  213.279999\n",
              "2019-09-06  214.419998  212.509995  ...  19362300.0  213.259995\n",
              "2019-09-09  216.440002  211.070007  ...  27309400.0  214.169998\n",
              "2019-09-10  216.779999  211.710007  ...  31777900.0  216.699997\n",
              "2019-09-11  223.710007  217.729996  ...  43590900.0  223.589996\n",
              "\n",
              "[5 rows x 6 columns]"
            ]
          },
          "metadata": {
            "tags": []
          },
          "execution_count": 63
        }
      ]
    },
    {
      "cell_type": "code",
      "metadata": {
        "id": "0xuGeSbB9Mmh",
        "colab_type": "code",
        "outputId": "b669f850-031e-4140-e843-bb6d17453c4f",
        "colab": {
          "base_uri": "https://localhost:8080/",
          "height": 34
        }
      },
      "source": [
        "# see shape\n",
        "df.shape"
      ],
      "execution_count": 64,
      "outputs": [
        {
          "output_type": "execute_result",
          "data": {
            "text/plain": [
              "(2439, 6)"
            ]
          },
          "metadata": {
            "tags": []
          },
          "execution_count": 64
        }
      ]
    },
    {
      "cell_type": "code",
      "metadata": {
        "id": "Mw30PVt2BPgE",
        "colab_type": "code",
        "outputId": "acab086c-1f11-48fc-e387-1d4662bafabc",
        "colab": {
          "base_uri": "https://localhost:8080/",
          "height": 235
        }
      },
      "source": [
        "# create df for regression\n",
        "dfreg = df.loc[:,['Adj Close','Volume']]\n",
        "dfreg['HL_PCT'] = (df['High'] - df['Low']) / df['Close'] * 100.0\n",
        "dfreg['PCT_change'] = (df['Close'] - df['Open']) / df['Open'] * 100.0\n",
        "dfreg.head()"
      ],
      "execution_count": 65,
      "outputs": [
        {
          "output_type": "execute_result",
          "data": {
            "text/html": [
              "<div>\n",
              "<style scoped>\n",
              "    .dataframe tbody tr th:only-of-type {\n",
              "        vertical-align: middle;\n",
              "    }\n",
              "\n",
              "    .dataframe tbody tr th {\n",
              "        vertical-align: top;\n",
              "    }\n",
              "\n",
              "    .dataframe thead th {\n",
              "        text-align: right;\n",
              "    }\n",
              "</style>\n",
              "<table border=\"1\" class=\"dataframe\">\n",
              "  <thead>\n",
              "    <tr style=\"text-align: right;\">\n",
              "      <th></th>\n",
              "      <th>Adj Close</th>\n",
              "      <th>Volume</th>\n",
              "      <th>HL_PCT</th>\n",
              "      <th>PCT_change</th>\n",
              "    </tr>\n",
              "    <tr>\n",
              "      <th>Date</th>\n",
              "      <th></th>\n",
              "      <th></th>\n",
              "      <th></th>\n",
              "      <th></th>\n",
              "    </tr>\n",
              "  </thead>\n",
              "  <tbody>\n",
              "    <tr>\n",
              "      <th>2010-01-04</th>\n",
              "      <td>26.681330</td>\n",
              "      <td>123432400.0</td>\n",
              "      <td>0.990606</td>\n",
              "      <td>0.271752</td>\n",
              "    </tr>\n",
              "    <tr>\n",
              "      <th>2010-01-05</th>\n",
              "      <td>26.727465</td>\n",
              "      <td>150476200.0</td>\n",
              "      <td>1.091520</td>\n",
              "      <td>-0.102519</td>\n",
              "    </tr>\n",
              "    <tr>\n",
              "      <th>2010-01-06</th>\n",
              "      <td>26.302330</td>\n",
              "      <td>138040000.0</td>\n",
              "      <td>2.123523</td>\n",
              "      <td>-1.590633</td>\n",
              "    </tr>\n",
              "    <tr>\n",
              "      <th>2010-01-07</th>\n",
              "      <td>26.253704</td>\n",
              "      <td>119282800.0</td>\n",
              "      <td>1.400893</td>\n",
              "      <td>-0.552538</td>\n",
              "    </tr>\n",
              "    <tr>\n",
              "      <th>2010-01-08</th>\n",
              "      <td>26.428249</td>\n",
              "      <td>111902700.0</td>\n",
              "      <td>1.386924</td>\n",
              "      <td>0.798864</td>\n",
              "    </tr>\n",
              "  </tbody>\n",
              "</table>\n",
              "</div>"
            ],
            "text/plain": [
              "            Adj Close       Volume    HL_PCT  PCT_change\n",
              "Date                                                    \n",
              "2010-01-04  26.681330  123432400.0  0.990606    0.271752\n",
              "2010-01-05  26.727465  150476200.0  1.091520   -0.102519\n",
              "2010-01-06  26.302330  138040000.0  2.123523   -1.590633\n",
              "2010-01-07  26.253704  119282800.0  1.400893   -0.552538\n",
              "2010-01-08  26.428249  111902700.0  1.386924    0.798864"
            ]
          },
          "metadata": {
            "tags": []
          },
          "execution_count": 65
        }
      ]
    },
    {
      "cell_type": "code",
      "metadata": {
        "id": "LVdP2itxS_4Z",
        "colab_type": "code",
        "outputId": "38876381-c62d-42de-c94b-47c5c42c8ee0",
        "colab": {
          "base_uri": "https://localhost:8080/",
          "height": 51
        }
      },
      "source": [
        "# clean data\n",
        "\n",
        "# drop missing values\n",
        "dfreg.fillna(value=-99999, inplace=True)\n",
        "\n",
        "# separate 1 percent of the data to forecast\n",
        "forecast_out = int(math.ceil(0.01 * len(dfreg)))\n",
        "\n",
        "# separate the label, want to predict the AdjClose\n",
        "forecast_col = 'Adj Close'\n",
        "dfreg['label'] = dfreg[forecast_col].shift(-forecast_out)\n",
        "X = np.array(dfreg.drop(['label'], 1))\n",
        "\n",
        "# scale the X to even distribution for linear regression\n",
        "X = preprocessing.scale(X)\n",
        "\n",
        "# find data series of late X and early X (train) for model gen and eval\n",
        "X_lately = X[-forecast_out:]\n",
        "X = X[:-forecast_out]\n",
        "\n",
        "# separate label and identify it as y\n",
        "y = np.array(dfreg['label'])\n",
        "y = y[:-forecast_out]\n",
        "\n",
        "print('Shape X', X.shape)\n",
        "print('Shape y', y.shape)"
      ],
      "execution_count": 66,
      "outputs": [
        {
          "output_type": "stream",
          "text": [
            "Shape X (2414, 4)\n",
            "Shape y (2414,)\n"
          ],
          "name": "stdout"
        }
      ]
    },
    {
      "cell_type": "code",
      "metadata": {
        "id": "mjtGczrzBvaW",
        "colab_type": "code",
        "colab": {}
      },
      "source": [
        "# create train and test sets\n",
        "X_train, X_test, y_train, y_test = model_selection.train_test_split(X, y, test_size=0.2)"
      ],
      "execution_count": 0,
      "outputs": []
    },
    {
      "cell_type": "code",
      "metadata": {
        "id": "BIrkrtePTcpL",
        "colab_type": "code",
        "outputId": "53163f2f-3a11-48cc-895f-c80ae842e4d0",
        "colab": {
          "base_uri": "https://localhost:8080/",
          "height": 34
        }
      },
      "source": [
        "# build Linear regression model\n",
        "lin_reg = LinearRegression()\n",
        "lin_reg.fit(X_train, y_train)\n"
      ],
      "execution_count": 68,
      "outputs": [
        {
          "output_type": "execute_result",
          "data": {
            "text/plain": [
              "LinearRegression(copy_X=True, fit_intercept=True, n_jobs=None, normalize=False)"
            ]
          },
          "metadata": {
            "tags": []
          },
          "execution_count": 68
        }
      ]
    },
    {
      "cell_type": "code",
      "metadata": {
        "id": "EOrYouSIoSpl",
        "colab_type": "code",
        "colab": {
          "base_uri": "https://localhost:8080/",
          "height": 51
        },
        "outputId": "3a14ddf4-d3e7-4590-fa5d-1aaf2e1c205d"
      },
      "source": [
        "# build ridge regression model\n",
        "ridge = Ridge(alpha=0.1)\n",
        "ridge.fit(X_train, y_train)"
      ],
      "execution_count": 69,
      "outputs": [
        {
          "output_type": "execute_result",
          "data": {
            "text/plain": [
              "Ridge(alpha=0.1, copy_X=True, fit_intercept=True, max_iter=None,\n",
              "      normalize=False, random_state=None, solver='auto', tol=0.001)"
            ]
          },
          "metadata": {
            "tags": []
          },
          "execution_count": 69
        }
      ]
    },
    {
      "cell_type": "code",
      "metadata": {
        "id": "x8pdHLSSpAk-",
        "colab_type": "code",
        "colab": {
          "base_uri": "https://localhost:8080/",
          "height": 68
        },
        "outputId": "8a720016-b204-4a01-cb79-73736508506e"
      },
      "source": [
        "# build lasso regression model\n",
        "lasso = Lasso(alpha=0.1)\n",
        "lasso.fit(X_train, y_train)"
      ],
      "execution_count": 70,
      "outputs": [
        {
          "output_type": "execute_result",
          "data": {
            "text/plain": [
              "Lasso(alpha=0.1, copy_X=True, fit_intercept=True, max_iter=1000,\n",
              "      normalize=False, positive=False, precompute=False, random_state=None,\n",
              "      selection='cyclic', tol=0.0001, warm_start=False)"
            ]
          },
          "metadata": {
            "tags": []
          },
          "execution_count": 70
        }
      ]
    },
    {
      "cell_type": "code",
      "metadata": {
        "id": "w90HZayzp8Ke",
        "colab_type": "code",
        "colab": {
          "base_uri": "https://localhost:8080/",
          "height": 170
        },
        "outputId": "cca3167c-29e0-4609-dd85-4568ed8d2c63"
      },
      "source": [
        "# build polynomial 2 regression model\n",
        "poly2 = make_pipeline(PolynomialFeatures(2), Ridge())\n",
        "poly2.fit(X_train, y_train)"
      ],
      "execution_count": 71,
      "outputs": [
        {
          "output_type": "execute_result",
          "data": {
            "text/plain": [
              "Pipeline(memory=None,\n",
              "         steps=[('polynomialfeatures',\n",
              "                 PolynomialFeatures(degree=2, include_bias=True,\n",
              "                                    interaction_only=False, order='C')),\n",
              "                ('ridge',\n",
              "                 Ridge(alpha=1.0, copy_X=True, fit_intercept=True,\n",
              "                       max_iter=None, normalize=False, random_state=None,\n",
              "                       solver='auto', tol=0.001))],\n",
              "         verbose=False)"
            ]
          },
          "metadata": {
            "tags": []
          },
          "execution_count": 71
        }
      ]
    },
    {
      "cell_type": "code",
      "metadata": {
        "id": "vrtGPgtzqdG3",
        "colab_type": "code",
        "colab": {
          "base_uri": "https://localhost:8080/",
          "height": 170
        },
        "outputId": "e9bd6925-2d8a-4421-f5d7-e21a68490778"
      },
      "source": [
        "# build polynomial 3 regression model\n",
        "poly3 = make_pipeline(PolynomialFeatures(3), Ridge())\n",
        "poly3.fit(X_train, y_train)"
      ],
      "execution_count": 72,
      "outputs": [
        {
          "output_type": "execute_result",
          "data": {
            "text/plain": [
              "Pipeline(memory=None,\n",
              "         steps=[('polynomialfeatures',\n",
              "                 PolynomialFeatures(degree=3, include_bias=True,\n",
              "                                    interaction_only=False, order='C')),\n",
              "                ('ridge',\n",
              "                 Ridge(alpha=1.0, copy_X=True, fit_intercept=True,\n",
              "                       max_iter=None, normalize=False, random_state=None,\n",
              "                       solver='auto', tol=0.001))],\n",
              "         verbose=False)"
            ]
          },
          "metadata": {
            "tags": []
          },
          "execution_count": 72
        }
      ]
    },
    {
      "cell_type": "code",
      "metadata": {
        "id": "JLfeeC_uqw4A",
        "colab_type": "code",
        "colab": {
          "base_uri": "https://localhost:8080/",
          "height": 102
        },
        "outputId": "c639172d-c3a4-4e90-d8a8-fcb4bd732957"
      },
      "source": [
        "# get confidence scores\n",
        "lin_reg_conf = lin_reg.score(X_test, y_test)\n",
        "ridge_conf = ridge.score(X_test, y_test)\n",
        "lasso_conf = lasso.score(X_test, y_test)\n",
        "poly2_conf = poly2.score(X_test, y_test)\n",
        "poly3_conf = poly3.score(X_test, y_test)\n",
        "\n",
        "# print results\n",
        "print('LinReg confidence is: ', lin_reg_conf * 100)\n",
        "print('Ridge confidence is: ', ridge_conf * 100)\n",
        "print('Lasso confidence is: ', lasso_conf * 100)\n",
        "print('Poly 2 confidence is: ', poly2_conf * 100)\n",
        "print('Poly 3 confidence is: ', poly3_conf * 100)"
      ],
      "execution_count": 73,
      "outputs": [
        {
          "output_type": "stream",
          "text": [
            "LinReg confidence is:  96.75188331660755\n",
            "Ridge confidence is:  96.75170227453532\n",
            "Lasso confidence is:  96.7467548689118\n",
            "Poly 2 confidence is:  96.77861785245004\n",
            "Poly 3 confidence is:  96.90414639954803\n"
          ],
          "name": "stdout"
        }
      ]
    },
    {
      "cell_type": "code",
      "metadata": {
        "id": "u4g0qCmZBubi",
        "colab_type": "code",
        "outputId": "fc97a4c4-70f4-4881-94d0-f2d673284141",
        "colab": {
          "base_uri": "https://localhost:8080/",
          "height": 34
        }
      },
      "source": [
        "# create forecasts\n",
        "lin_reg_forecast = lin_reg.predict(X_lately)\n",
        "ridge_forecast = ridge.predict(X_lately)\n",
        "lasso_forecast = lasso.predict(X_lately)\n",
        "poly2_forecast = poly2.predict(X_lately)\n",
        "poly3_forecast = poly3.predict(X_lately)\n",
        "\n",
        "# print shape\n",
        "print(lin_reg_forecast.shape)"
      ],
      "execution_count": 79,
      "outputs": [
        {
          "output_type": "stream",
          "text": [
            "(25,)\n"
          ],
          "name": "stdout"
        }
      ]
    },
    {
      "cell_type": "code",
      "metadata": {
        "id": "AO2YvjUOsfty",
        "colab_type": "code",
        "colab": {
          "base_uri": "https://localhost:8080/",
          "height": 34
        },
        "outputId": "dff91bca-4ce1-420e-e537-2dd72983df3d"
      },
      "source": [
        "# append forecasts to dataframe\n",
        "\n",
        "# linear regression\n",
        "dfreg['Forecast_LinReg'] = np.nan\n",
        "\n",
        "last_date = dfreg.iloc[-1].name\n",
        "last_unix = last_date\n",
        "next_unix = last_unix + datetime.timedelta(days=1)\n",
        "\n",
        "for i in lin_reg_forecast:\n",
        "    next_date = next_unix\n",
        "    next_unix += datetime.timedelta(days=1)\n",
        "    dfreg.loc[next_date] = [np.nan for _ in range(len(dfreg.columns))]\n",
        "    dfreg['Forecast_LinReg'].loc[next_date] = i\n",
        "\n",
        "# ridge\n",
        "dfreg['Forecast_Ridge'] = np.nan\n",
        "\n",
        "last_date = dfreg.iloc[-1].name\n",
        "last_unix = last_date\n",
        "next_unix = last_unix + datetime.timedelta(days=1)\n",
        "\n",
        "for i in ridge_forecast:\n",
        "    next_date = next_unix\n",
        "    next_unix += datetime.timedelta(days=1)\n",
        "    dfreg.loc[next_date] = [np.nan for _ in range(len(dfreg.columns))]\n",
        "    dfreg['Forecast_Ridge'].loc[next_date] = i\n",
        "\n",
        "# lasso\n",
        "dfreg['Forecast_Lasso'] = np.nan\n",
        "\n",
        "last_date = dfreg.iloc[-1].name\n",
        "last_unix = last_date\n",
        "next_unix = last_unix + datetime.timedelta(days=1)\n",
        "\n",
        "for i in lasso_forecast:\n",
        "    next_date = next_unix\n",
        "    next_unix += datetime.timedelta(days=1)\n",
        "    dfreg.loc[next_date] = [np.nan for _ in range(len(dfreg.columns))]\n",
        "    dfreg['Forecast_Lasso'].loc[next_date] = i\n",
        "\n",
        "# poly2\n",
        "dfreg['Forecast_Poly2'] = np.nan\n",
        "\n",
        "last_date = dfreg.iloc[-1].name\n",
        "last_unix = last_date\n",
        "next_unix = last_unix + datetime.timedelta(days=1)\n",
        "\n",
        "for i in poly2_forecast:\n",
        "    next_date = next_unix\n",
        "    next_unix += datetime.timedelta(days=1)\n",
        "    dfreg.loc[next_date] = [np.nan for _ in range(len(dfreg.columns))]\n",
        "    dfreg['Forecast_Poly2'].loc[next_date] = i\n",
        "\n",
        "# poly3\n",
        "dfreg['Forecast_Poly3'] = np.nan\n",
        "\n",
        "last_date = dfreg.iloc[-1].name\n",
        "last_unix = last_date\n",
        "next_unix = last_unix + datetime.timedelta(days=1)\n",
        "\n",
        "for i in poly3_forecast:\n",
        "    next_date = next_unix\n",
        "    next_unix += datetime.timedelta(days=1)\n",
        "    dfreg.loc[next_date] = [np.nan for _ in range(len(dfreg.columns))]\n",
        "    dfreg['Forecast_Poly3'].loc[next_date] = i\n",
        "\n",
        "dfreg.shape"
      ],
      "execution_count": 83,
      "outputs": [
        {
          "output_type": "execute_result",
          "data": {
            "text/plain": [
              "(2614, 10)"
            ]
          },
          "metadata": {
            "tags": []
          },
          "execution_count": 83
        }
      ]
    },
    {
      "cell_type": "code",
      "metadata": {
        "id": "ePK_TKuvAEtx",
        "colab_type": "code",
        "outputId": "f720bc0f-baf9-4371-80bd-ab8983f3b3f2",
        "colab": {
          "base_uri": "https://localhost:8080/",
          "height": 281
        }
      },
      "source": [
        "# plot prediction\n",
        "dfreg['Adj Close'].tail(300).plot()\n",
        "dfreg['Forecast_LinReg'].tail(300).plot()\n",
        "dfreg['Forecast_Ridge'].tail(300).plot()\n",
        "dfreg['Forecast_Lasso'].tail(300).plot()\n",
        "dfreg['Forecast_Poly2'].tail(300).plot()\n",
        "dfreg['Forecast_Poly3'].tail(300).plot()\n",
        "plt.legend(loc=4)\n",
        "plt.xlabel('Date')\n",
        "plt.ylabel('Price')\n",
        "plt.show()"
      ],
      "execution_count": 85,
      "outputs": [
        {
          "output_type": "display_data",
          "data": {
            "image/png": "[encoded data removed]",
            "text/plain": [
              "<Figure size 432x288 with 1 Axes>"
            ]
          },
          "metadata": {
            "tags": []
          }
        }
      ]
    }
  ]
}